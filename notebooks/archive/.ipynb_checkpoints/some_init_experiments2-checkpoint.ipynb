{
 "cells": [
  {
   "cell_type": "code",
   "execution_count": 1,
   "metadata": {},
   "outputs": [
    {
     "name": "stderr",
     "output_type": "stream",
     "text": [
      "Using TensorFlow backend.\n"
     ]
    }
   ],
   "source": [
    "from __future__ import absolute_import, division, print_function, unicode_literals\n",
    "\n",
    "import tensorflow as tf\n",
    "from matplotlib import pyplot as plt\n",
    "from tensorflow.python.ops import array_ops\n",
    "# from tensorflow.keras import datasets, layers, models, utils\n",
    "from keras import layers, datasets, utils, models"
   ]
  },
  {
   "cell_type": "code",
   "execution_count": 2,
   "metadata": {},
   "outputs": [],
   "source": [
    "(train_images, train_labels), (test_images, test_labels) = datasets.cifar100.load_data()\n",
    "\n",
    "train_images = train_images.reshape((50000, 32, 32, 3))\n",
    "test_images = test_images.reshape((10000, 32, 32, 3))\n",
    "\n",
    "# Normalize pixel values to be between 0 and 1\n",
    "train_images, test_images = train_images / 255.0, test_images / 255.0\n",
    "# train_images, test_images = train_images - 0.5, test_images - 0.5\n",
    "# train_images, test_images = train_images * 2, test_images * 2\n",
    "\n",
    "# To one-hot\n",
    "train_labels = utils.to_categorical(train_labels, 100)\n",
    "test_labels = utils.to_categorical(test_labels, 100)"
   ]
  },
  {
   "cell_type": "code",
   "execution_count": 7,
   "metadata": {},
   "outputs": [],
   "source": [
    "model = models.Sequential()\n",
    "\n",
    "model.add(layers.Convolution2D(32, 3, padding='same',\n",
    "                               input_shape=(32, 32, 3)))\n",
    "model.add(layers.Activation('relu'))\n",
    "model.add(layers.Convolution2D(32, 3))\n",
    "model.add(layers.Activation('relu'))\n",
    "model.add(layers.MaxPooling2D(pool_size=(2, 2)))\n",
    "model.add(layers.Dropout(0.25))\n",
    "\n",
    "model.add(layers.Convolution2D(64, 3, padding='same'))\n",
    "model.add(layers.Activation('relu'))\n",
    "model.add(layers.Convolution2D(64, 3))\n",
    "model.add(layers.Activation('relu'))\n",
    "model.add(layers.MaxPooling2D(pool_size=(2, 2)))\n",
    "model.add(layers.Dropout(0.25))\n",
    "\n",
    "model.add(layers.Flatten())\n",
    "model.add(layers.Dense(512))\n",
    "model.add(layers.Activation('relu'))\n",
    "# model.add(layers.Dropout(0.5))\n",
    "model.add(layers.Dense(100, activation='softmax'))"
   ]
  },
  {
   "cell_type": "code",
   "execution_count": 4,
   "metadata": {
    "collapsed": true
   },
   "outputs": [
    {
     "data": {
      "text/plain": [
       "array([[ -1.79332383e-02,   2.75854580e-03,   1.54008701e-01,\n",
       "          3.85200009e-02,  -1.74595043e-02,  -1.42379827e-03,\n",
       "          2.80976072e-02,  -2.83561740e-02,  -1.42732024e-01,\n",
       "         -6.32687286e-02,   3.02754398e-02,   5.50214574e-03,\n",
       "         -5.43375723e-02,   6.56293705e-02,   1.53363481e-01,\n",
       "          2.24670656e-02,  -9.35273021e-02,  -1.34679228e-01,\n",
       "         -5.28472848e-03,  -8.70812684e-02,   1.33351117e-01,\n",
       "         -4.31897007e-02,   8.14656839e-02,   1.43965244e-01,\n",
       "          1.08156428e-01,   1.24173999e-01,  -1.64839789e-01,\n",
       "         -6.42225370e-02,  -1.33592337e-01,   2.03261420e-01,\n",
       "          8.75403434e-02,   3.29893641e-02,  -1.04771584e-01,\n",
       "         -2.58247405e-02,   4.19019200e-02,   9.45553184e-05,\n",
       "         -2.57763900e-02,   1.18809983e-01,   4.56755143e-03,\n",
       "         -1.85587376e-01,   7.76786432e-02,  -7.58660771e-03,\n",
       "         -8.73109400e-02,   4.55091372e-02,   1.59836143e-01,\n",
       "          6.69775009e-02,  -2.39077210e-01,  -1.04999736e-01,\n",
       "         -8.35035294e-02,  -1.36563838e-01,   2.00360306e-02,\n",
       "          6.72680289e-02,   1.18930310e-01,   1.69581827e-03,\n",
       "          9.69300419e-02,   3.17655802e-02,   6.54178932e-02,\n",
       "         -3.61011811e-02,  -1.54389963e-02,  -6.66603893e-02,\n",
       "          7.89597631e-02,   1.61082502e-02,  -1.83000509e-02,\n",
       "         -2.17099279e-01,   3.45009901e-02,  -2.64920771e-01,\n",
       "         -5.28858900e-02,  -6.21130504e-02,   5.67421783e-04,\n",
       "         -2.57016756e-02,  -9.17649865e-02,  -4.24106196e-02,\n",
       "          2.01858461e-01,  -2.01105289e-02,  -3.33697684e-02,\n",
       "         -1.13902465e-01,   4.80274949e-03,  -3.38564143e-02,\n",
       "          8.60251784e-02,  -2.99693868e-02,  -5.40825799e-02,\n",
       "          1.04323596e-01,   6.19177558e-02,  -2.95085665e-02,\n",
       "          6.14145920e-02,   7.52434656e-02,   1.39580354e-01,\n",
       "          8.82598758e-02,   1.64357334e-01,   2.70479433e-02,\n",
       "          5.15066087e-04,  -1.09990649e-01,  -1.54520661e-01,\n",
       "         -1.92617819e-01,  -1.97925895e-01,  -5.88269196e-02,\n",
       "          7.61119723e-02,  -2.08493963e-01,  -1.27106845e-01,\n",
       "         -8.48539621e-02],\n",
       "       [ -4.24347632e-02,   4.33015078e-03,   1.90458104e-01,\n",
       "          8.68966877e-02,  -1.46923326e-02,  -7.30567276e-02,\n",
       "          4.45137173e-02,  -3.05400174e-02,  -1.41024560e-01,\n",
       "         -6.41988739e-02,   4.79090586e-03,  -4.26972918e-02,\n",
       "         -9.15519893e-02,   1.81645527e-02,   1.54746488e-01,\n",
       "          1.45498782e-01,  -1.81744039e-01,  -1.98672310e-01,\n",
       "          1.97691359e-02,  -1.08763397e-01,   2.16143548e-01,\n",
       "         -5.04265167e-02,   1.22723132e-01,   7.95092136e-02,\n",
       "          7.21343011e-02,   1.79120138e-01,  -2.26966888e-01,\n",
       "         -5.23239300e-02,  -1.77924037e-01,   1.77331895e-01,\n",
       "          7.20918626e-02,   4.41178158e-02,  -7.13281110e-02,\n",
       "         -6.98393211e-02,  -1.25722121e-03,   6.77257776e-02,\n",
       "         -4.67721075e-02,   1.12071186e-01,  -1.20358542e-03,\n",
       "         -1.58140004e-01,   4.00178507e-03,  -2.73618624e-02,\n",
       "         -1.20888889e-01,   1.25311136e-01,   1.56018525e-01,\n",
       "          7.14610368e-02,  -3.13703865e-01,  -1.15663067e-01,\n",
       "         -1.21904433e-01,  -1.34897813e-01,   1.20303035e-02,\n",
       "          9.55130756e-02,   1.72972888e-01,  -3.13486308e-02,\n",
       "          1.11691035e-01,   4.03632559e-02,   6.42687678e-02,\n",
       "         -4.44190130e-02,   7.16264546e-02,  -5.21454141e-02,\n",
       "          1.18276626e-01,   5.49343899e-02,  -3.40120867e-02,\n",
       "         -2.38444090e-01,  -1.96750425e-02,  -3.10756207e-01,\n",
       "         -9.01205093e-02,  -2.78016254e-02,  -4.49718013e-02,\n",
       "         -1.40458234e-02,  -9.18778330e-02,  -1.03631355e-02,\n",
       "          2.33568281e-01,   5.35045788e-02,   1.88927501e-02,\n",
       "         -8.94052684e-02,   1.50746424e-02,  -9.21771228e-02,\n",
       "          9.72605422e-02,  -2.64489055e-02,  -7.04225302e-02,\n",
       "          1.31713003e-01,   8.32413509e-02,  -8.28288794e-02,\n",
       "          5.49666956e-02,   1.26089513e-01,   2.31088847e-01,\n",
       "          7.48991370e-02,   2.01622680e-01,  -1.06272269e-02,\n",
       "         -1.00066289e-02,  -1.12471253e-01,  -2.04974085e-01,\n",
       "         -2.08679199e-01,  -1.82894766e-01,  -7.46777207e-02,\n",
       "          9.80647504e-02,  -2.49916434e-01,  -1.44200385e-01,\n",
       "         -9.52851027e-02]], dtype=float32)"
      ]
     },
     "execution_count": 4,
     "metadata": {},
     "output_type": "execute_result"
    }
   ],
   "source": [
    "model.predict(train_images[:2])"
   ]
  },
  {
   "cell_type": "code",
   "execution_count": 5,
   "metadata": {
    "collapsed": true
   },
   "outputs": [
    {
     "name": "stdout",
     "output_type": "stream",
     "text": [
      "_________________________________________________________________\n",
      "Layer (type)                 Output Shape              Param #   \n",
      "=================================================================\n",
      "conv2d_1 (Conv2D)            (None, 32, 32, 32)        896       \n",
      "_________________________________________________________________\n",
      "activation_1 (Activation)    (None, 32, 32, 32)        0         \n",
      "_________________________________________________________________\n",
      "conv2d_2 (Conv2D)            (None, 30, 30, 32)        9248      \n",
      "_________________________________________________________________\n",
      "activation_2 (Activation)    (None, 30, 30, 32)        0         \n",
      "_________________________________________________________________\n",
      "max_pooling2d_1 (MaxPooling2 (None, 15, 15, 32)        0         \n",
      "_________________________________________________________________\n",
      "dropout_1 (Dropout)          (None, 15, 15, 32)        0         \n",
      "_________________________________________________________________\n",
      "conv2d_3 (Conv2D)            (None, 15, 15, 64)        18496     \n",
      "_________________________________________________________________\n",
      "activation_3 (Activation)    (None, 15, 15, 64)        0         \n",
      "_________________________________________________________________\n",
      "conv2d_4 (Conv2D)            (None, 13, 13, 64)        36928     \n",
      "_________________________________________________________________\n",
      "activation_4 (Activation)    (None, 13, 13, 64)        0         \n",
      "_________________________________________________________________\n",
      "max_pooling2d_2 (MaxPooling2 (None, 6, 6, 64)          0         \n",
      "_________________________________________________________________\n",
      "dropout_2 (Dropout)          (None, 6, 6, 64)          0         \n",
      "_________________________________________________________________\n",
      "flatten_1 (Flatten)          (None, 2304)              0         \n",
      "_________________________________________________________________\n",
      "dense_1 (Dense)              (None, 512)               1180160   \n",
      "_________________________________________________________________\n",
      "activation_5 (Activation)    (None, 512)               0         \n",
      "_________________________________________________________________\n",
      "dropout_3 (Dropout)          (None, 512)               0         \n",
      "_________________________________________________________________\n",
      "dense_2 (Dense)              (None, 100)               51300     \n",
      "=================================================================\n",
      "Total params: 1,297,028\n",
      "Trainable params: 1,297,028\n",
      "Non-trainable params: 0\n",
      "_________________________________________________________________\n"
     ]
    }
   ],
   "source": [
    "model.summary()"
   ]
  },
  {
   "cell_type": "code",
   "execution_count": 6,
   "metadata": {},
   "outputs": [],
   "source": [
    "def softmax_loss(t=1.0):\n",
    "\n",
    "    t = float(t)\n",
    "    \n",
    "    def softmax_loss_fixed(y_true, logits):\n",
    "        \"\"\"Softmax loss for multi-classification\n",
    "        FL(p_t)=-alpha(1-p_t)^{gamma}ln(p_t)\n",
    "        Notice: y_pred is raw logits\n",
    "        Focal Loss for Dense Object Detection\n",
    "        https://arxiv.org/abs/1708.02002\n",
    "\n",
    "        Arguments:\n",
    "            y_true {tensor} -- ground truth labels, shape of [batch_size, num_cls]\n",
    "            y_pred {tensor} -- model's output, shape of [batch_size, num_cls]\n",
    "\n",
    "        Keyword Arguments:\n",
    "\n",
    "        Returns:\n",
    "            [tensor] -- loss.\n",
    "        \"\"\"\n",
    "        epsilon = 1.e-9\n",
    "        zeros = array_ops.zeros_like(logits, dtype=logits.dtype)\n",
    "        ones = array_ops.ones_like(logits, dtype=logits.dtype)\n",
    "        \n",
    "        logit_y = tf.reduce_sum(tf.multiply(y_true, logits), axis=-1, keepdims=True)\n",
    "        I_k = array_ops.where(logit_y >= logits, zeros, ones)\n",
    "        \n",
    "        h = tf.exp(tf.multiply(t - 1., tf.multiply(logits + ones, I_k)))\n",
    "        \n",
    "        # softmax = tf.exp(logits) / tf.reduce_sum(tf.multiply(tf.exp(logits), h))\n",
    "#         softmax = tf.exp(logits) / (tf.reshape(\n",
    "#             tf.reduce_sum(tf.multiply(tf.exp(logits), h)), \n",
    "#             [-1, 1]) + epsilon)\n",
    "        softmax = tf.exp(logits) / (tf.reduce_sum(tf.multiply(tf.exp(logits), h)) + epsilon)\n",
    "        # softmax = tf.nn.softmax(logits)\n",
    "        # softmax = tf.exp(logits) / tf.reduce_sum(tf.exp(logits))\n",
    "        \n",
    "        # We add epsilon because log(0) = nan\n",
    "        softmax = tf.add(softmax, epsilon)\n",
    "        ce = tf.multiply(y_true, -tf.log(softmax))\n",
    "        return tf.reduce_mean(ce)\n",
    "    \n",
    "    return softmax_loss_fixed"
   ]
  },
  {
   "cell_type": "code",
   "execution_count": 8,
   "metadata": {},
   "outputs": [
    {
     "name": "stdout",
     "output_type": "stream",
     "text": [
      "Train on 50000 samples, validate on 10000 samples\n",
      "Epoch 1/30\n",
      "50000/50000 [==============================] - 8s 150us/step - loss: 3.7086 - acc: 0.1334 - val_loss: 3.1493 - val_acc: 0.2383\n",
      "Epoch 2/30\n",
      "50000/50000 [==============================] - 8s 166us/step - loss: 2.9109 - acc: 0.2792 - val_loss: 2.7674 - val_acc: 0.3169\n",
      "Epoch 3/30\n",
      "50000/50000 [==============================] - 8s 156us/step - loss: 2.5512 - acc: 0.3486 - val_loss: 2.5161 - val_acc: 0.3646\n",
      "Epoch 4/30\n",
      "50000/50000 [==============================] - 8s 153us/step - loss: 2.2890 - acc: 0.4087 - val_loss: 2.4167 - val_acc: 0.3905\n",
      "Epoch 5/30\n",
      "50000/50000 [==============================] - 8s 151us/step - loss: 2.0890 - acc: 0.4492 - val_loss: 2.4157 - val_acc: 0.3903\n",
      "Epoch 6/30\n",
      "50000/50000 [==============================] - 8s 151us/step - loss: 1.9166 - acc: 0.4841 - val_loss: 2.4319 - val_acc: 0.4010\n",
      "Epoch 7/30\n",
      "50000/50000 [==============================] - 7s 143us/step - loss: 1.7686 - acc: 0.5203 - val_loss: 2.3821 - val_acc: 0.4146\n",
      "Epoch 8/30\n",
      "50000/50000 [==============================] - 8s 157us/step - loss: 1.6397 - acc: 0.5469 - val_loss: 2.4273 - val_acc: 0.4134\n",
      "Epoch 9/30\n",
      "50000/50000 [==============================] - 8s 161us/step - loss: 1.5051 - acc: 0.5790 - val_loss: 2.4740 - val_acc: 0.4174\n",
      "Epoch 10/30\n",
      "50000/50000 [==============================] - 8s 161us/step - loss: 1.1912 - acc: 0.6606 - val_loss: 2.5021 - val_acc: 0.4361\n",
      "Epoch 11/30\n",
      "50000/50000 [==============================] - 8s 161us/step - loss: 1.0866 - acc: 0.6818 - val_loss: 2.6041 - val_acc: 0.4263\n",
      "Epoch 12/30\n",
      "50000/50000 [==============================] - 8s 161us/step - loss: 1.0066 - acc: 0.7028 - val_loss: 2.6974 - val_acc: 0.4217\n",
      "Epoch 13/30\n",
      "50000/50000 [==============================] - 8s 161us/step - loss: 0.9542 - acc: 0.7156 - val_loss: 2.7329 - val_acc: 0.4270\n",
      "Epoch 14/30\n",
      "50000/50000 [==============================] - 8s 161us/step - loss: 0.8933 - acc: 0.7303 - val_loss: 2.8479 - val_acc: 0.4243\n",
      "Epoch 15/30\n",
      "50000/50000 [==============================] - 8s 161us/step - loss: 0.8391 - acc: 0.7463 - val_loss: 2.8431 - val_acc: 0.4235\n",
      "Epoch 16/30\n",
      "50000/50000 [==============================] - 8s 161us/step - loss: 0.7917 - acc: 0.7597 - val_loss: 2.9935 - val_acc: 0.4171\n",
      "Epoch 17/30\n",
      "50000/50000 [==============================] - 8s 161us/step - loss: 0.7584 - acc: 0.7668 - val_loss: 3.0463 - val_acc: 0.4229\n",
      "Epoch 18/30\n",
      "50000/50000 [==============================] - 8s 152us/step - loss: 0.7163 - acc: 0.7771 - val_loss: 3.0555 - val_acc: 0.4152\n",
      "Epoch 19/30\n",
      "50000/50000 [==============================] - 7s 150us/step - loss: 0.6897 - acc: 0.7855 - val_loss: 3.1368 - val_acc: 0.4157\n",
      "Epoch 20/30\n",
      "50000/50000 [==============================] - 8s 150us/step - loss: 0.5525 - acc: 0.8271 - val_loss: 3.2697 - val_acc: 0.4233\n",
      "Epoch 21/30\n",
      "50000/50000 [==============================] - 7s 145us/step - loss: 0.5068 - acc: 0.8388 - val_loss: 3.3440 - val_acc: 0.4243\n",
      "Epoch 22/30\n",
      "50000/50000 [==============================] - 8s 152us/step - loss: 0.4873 - acc: 0.8457 - val_loss: 3.3671 - val_acc: 0.4209\n",
      "Epoch 23/30\n",
      "50000/50000 [==============================] - 8s 152us/step - loss: 0.4624 - acc: 0.8521 - val_loss: 3.4146 - val_acc: 0.4187\n",
      "Epoch 24/30\n",
      "50000/50000 [==============================] - 7s 142us/step - loss: 0.4418 - acc: 0.8568 - val_loss: 3.4944 - val_acc: 0.4200\n",
      "Epoch 25/30\n",
      "50000/50000 [==============================] - 8s 152us/step - loss: 0.4408 - acc: 0.8587 - val_loss: 3.5444 - val_acc: 0.4202\n",
      "Epoch 26/30\n",
      "50000/50000 [==============================] - 7s 150us/step - loss: 0.4231 - acc: 0.8643 - val_loss: 3.5716 - val_acc: 0.4211\n",
      "Epoch 27/30\n",
      "50000/50000 [==============================] - 7s 148us/step - loss: 0.4137 - acc: 0.8663 - val_loss: 3.5522 - val_acc: 0.4227\n",
      "Epoch 28/30\n",
      "50000/50000 [==============================] - 8s 154us/step - loss: 0.3923 - acc: 0.8725 - val_loss: 3.6680 - val_acc: 0.4208\n",
      "Epoch 29/30\n",
      "50000/50000 [==============================] - 7s 144us/step - loss: 0.3852 - acc: 0.8725 - val_loss: 3.6268 - val_acc: 0.4177\n",
      "Epoch 30/30\n",
      "50000/50000 [==============================] - 8s 150us/step - loss: 0.3290 - acc: 0.8928 - val_loss: 3.7197 - val_acc: 0.4245\n"
     ]
    }
   ],
   "source": [
    "import math\n",
    "\n",
    "def step_decay(epoch):\n",
    "   initial_lrate = 0.001\n",
    "   drop = 0.5\n",
    "   epochs_drop = 10.0\n",
    "   lrate = initial_lrate * math.pow(drop,  \n",
    "           math.floor((1+epoch)/epochs_drop))\n",
    "   return lrate\n",
    "from keras import callbacks\n",
    "lrate = callbacks.LearningRateScheduler(step_decay)\n",
    "callbacks_list = [lrate]\n",
    "\n",
    "model.compile(optimizer='adam',\n",
    "              loss='categorical_crossentropy',\n",
    "              metrics=['accuracy'])\n",
    "\n",
    "history1 = model.fit(train_images, train_labels, epochs=30,\n",
    "                     validation_data=(test_images, test_labels), callbacks=callbacks_list);"
   ]
  },
  {
   "cell_type": "code",
   "execution_count": 18,
   "metadata": {},
   "outputs": [
    {
     "data": {
      "image/png": "[encoded data removed]",
      "text/plain": [
       "<matplotlib.figure.Figure at 0x7fde4049d898>"
      ]
     },
     "metadata": {
      "needs_background": "light"
     },
     "output_type": "display_data"
    }
   ],
   "source": [
    "# own softmax with tf.reshape and LRS\n",
    "plt.plot(history.history['acc'], label='acc')\n",
    "plt.plot(history.history['val_acc'], label='val_acc')\n",
    "plt.plot(history1.history['acc'], label='acc_1.1')\n",
    "plt.plot(history1.history['val_acc'], label='val_acc_1.1')\n",
    "plt.legend()\n",
    "plt.grid();"
   ]
  },
  {
   "cell_type": "code",
   "execution_count": 12,
   "metadata": {},
   "outputs": [
    {
     "data": {
      "image/png": "[encoded data removed]",
      "text/plain": [
       "<matplotlib.figure.Figure at 0x7ffa38415cc0>"
      ]
     },
     "metadata": {
      "needs_background": "light"
     },
     "output_type": "display_data"
    }
   ],
   "source": [
    "# own softmax with tf.reshape, LRS, t=1.1\n",
    "plt.plot(history.history['acc'], label='acc')\n",
    "plt.plot(history.history['val_acc'], label='val_acc')\n",
    "plt.legend()\n",
    "plt.grid();"
   ]
  },
  {
   "cell_type": "code",
   "execution_count": null,
   "metadata": {},
   "outputs": [],
   "source": []
  },
  {
   "cell_type": "code",
   "execution_count": null,
   "metadata": {},
   "outputs": [],
   "source": []
  },
  {
   "cell_type": "code",
   "execution_count": null,
   "metadata": {},
   "outputs": [],
   "source": []
  },
  {
   "cell_type": "code",
   "execution_count": 23,
   "metadata": {
    "scrolled": true
   },
   "outputs": [
    {
     "name": "stdout",
     "output_type": "stream",
     "text": [
      "10000/10000 [==============================] - 0s 35us/step\n",
      "0.9938\n"
     ]
    }
   ],
   "source": [
    "test_loss, test_acc = model.evaluate(test_images, test_labels)\n",
    "print(test_acc)"
   ]
  },
  {
   "cell_type": "code",
   "execution_count": 25,
   "metadata": {
    "scrolled": true
   },
   "outputs": [
    {
     "name": "stdout",
     "output_type": "stream",
     "text": [
      "10000/10000 [==============================] - 0s 46us/step\n",
      "0.9938\n"
     ]
    }
   ],
   "source": [
    "model.add(tf.keras.layers.Activation('softmax'))\n",
    "model.compile(optimizer='adam',\n",
    "              loss=softmax_loss(),\n",
    "              metrics=['accuracy'])\n",
    "test_loss, test_acc = model.evaluate(test_images, test_labels)\n",
    "print(test_acc)"
   ]
  },
  {
   "cell_type": "code",
   "execution_count": null,
   "metadata": {},
   "outputs": [],
   "source": []
  },
  {
   "cell_type": "code",
   "execution_count": 8,
   "metadata": {},
   "outputs": [],
   "source": [
    "# -*- coding: utf-8 -*-\n",
    "from keras import backend as K\n",
    "from keras.engine.topology import Layer\n",
    "# from tensorflow.keras.layers import Dense, Activation, BatchNormalization, Layer\n",
    "# from tensorflow.keras.layers import activations, initializers, regularizers, constraints, Lambda\n",
    "# from tensorflow.keras.engine import InputSpec\n",
    "import tensorflow as tf\n",
    "import numpy as np\n",
    "\n",
    "class AMSoftmax(Layer):\n",
    "    def __init__(self, output_dim, **kwargs):\n",
    "        self.output_dim = output_dim\n",
    "        super(AMSoftmax, self).__init__(**kwargs)\n",
    "\n",
    "\n",
    "    def build(self, input_shape):\n",
    "        assert len(input_shape) >= 2\n",
    "        input_dim = input_shape[-1]\n",
    "\n",
    "        self.kernel = self.add_weight(name='kernel',\n",
    "                                      shape=(input_shape[1], self.output_dim),\n",
    "                                      initializer='uniform',\n",
    "                                      trainable=True)\n",
    "        super(AMSoftmax, self).build(input_shape)\n",
    "\n",
    "\n",
    "    def call(self, inputs):\n",
    "        inputs = tf.nn.l2_normalize(inputs, dim=1)  # input_l2norm\n",
    "        self.kernel = tf.nn.l2_normalize(self.kernel, dim=0)   # W_l2norm\n",
    "\n",
    "        cosine = K.dot(inputs, self.kernel)  # cos = input_l2norm * W_l2norm\n",
    "        return cosine\n",
    "\n",
    "\n",
    "    def compute_output_shape(self, input_shape):\n",
    "        return (input_shape[0], self.output_dim)\n",
    "\n",
    "\n",
    "\n",
    "def amsoftmax_loss(y_true, y_pred):\n",
    "    scale=30.0\n",
    "    margin=0.35\n",
    "\n",
    "    label = tf.reshape(tf.argmax(y_true, axis=-1), shape=(-1,1))\n",
    "    label = tf.cast(label, dtype=tf.int32) # y\n",
    "    batch_range = tf.reshape(tf.range(tf.shape(y_pred)[0]),shape=(-1,1)) # 0~batchsize-1\n",
    "    indices_of_groundtruth = tf.concat([batch_range, tf.reshape(label,shape=(-1,1))], axis=1) # 2columns vector, 0~batchsize-1 and label\n",
    "    groundtruth_score = tf.gather_nd(y_pred, indices_of_groundtruth) # score of groundtruth\n",
    "\n",
    "    m = tf.constant(margin,name='m')\n",
    "    s = tf.constant(scale,name='s')\n",
    "        \n",
    "    added_margin = tf.cast(tf.greater(groundtruth_score,m),dtype=tf.float32)*m # if groundtruth_score>m, groundtruth_score-m\n",
    "    added_margin = tf.reshape(added_margin,shape=(-1,1))\n",
    "    added_embeddingFeature = tf.subtract(y_pred, y_true*added_margin)*s # s(cos_theta_yi-m), s(cos_theta_j)\n",
    "\n",
    "    cross_ent = tf.nn.softmax_cross_entropy_with_logits(labels=y_true, logits=added_embeddingFeature)\n",
    "    loss = tf.reduce_mean(cross_ent)\n",
    "    return loss"
   ]
  },
  {
   "cell_type": "code",
   "execution_count": 29,
   "metadata": {},
   "outputs": [],
   "source": [
    "from keras import backend as K\n",
    "from keras.engine.topology import Layer\n",
    "from keras.layers import Dense, Activation,BatchNormalization\n",
    "from keras.layers import activations, initializers, regularizers, constraints, Lambda\n",
    "from keras.engine import InputSpec\n",
    "import tensorflow as tf\n",
    "import numpy as np\n",
    "\n",
    "class AMSoftmax(Layer):\n",
    "    def __init__(self, units, s, m,\n",
    "                 kernel_initializer='glorot_uniform',\n",
    "                 kernel_regularizer=None,\n",
    "                 kernel_constraint=None,\n",
    "                 **kwargs\n",
    "                 ):\n",
    "        if 'input_shape' not in kwargs and 'input_dim' in kwargs:\n",
    "            kwargs['input_shape'] = (kwargs.pop('input_dim'),)\n",
    "        super(AMSoftmax, self).__init__(**kwargs)\n",
    "        self.units = units\n",
    "        self.s = s\n",
    "        self.m = m\n",
    "        self.kernel_initializer = initializers.get(kernel_initializer)\n",
    "        self.kernel_regularizer = regularizers.get(kernel_regularizer)\n",
    "        self.kernel_constraint = constraints.get(kernel_constraint)\n",
    "        self.input_spec = InputSpec(min_ndim=2)\n",
    "        self.supports_masking = True\n",
    "\n",
    "\n",
    "    def build(self, input_shape):\n",
    "        assert len(input_shape) >= 2\n",
    "        input_dim = input_shape[-1]\n",
    "\n",
    "        self.kernel = self.add_weight(shape=(input_dim, self.units),\n",
    "                                      initializer=self.kernel_initializer,\n",
    "                                      name='kernel',\n",
    "                                      regularizer=self.kernel_regularizer,\n",
    "                                      constraint=self.kernel_constraint)\n",
    "        self.bias = None\n",
    "\n",
    "        self.input_spec = InputSpec(min_ndim=2, axes={-1: input_dim})\n",
    "        self.built = True\n",
    "\n",
    "\n",
    "    def call(self, inputs, **kwargs):\n",
    "        inputs = tf.nn.l2_normalize(inputs, dim=-1)\n",
    "        self.kernel = tf.nn.l2_normalize(self.kernel, dim=(0, 1))   # W归一化\n",
    "\n",
    "        dis_cosin = K.dot(inputs, self.kernel)\n",
    "        psi = dis_cosin - self.m\n",
    "\n",
    "        e_costheta = K.exp(self.s * dis_cosin)\n",
    "        e_psi = K.exp(self.s * psi)\n",
    "        sum_x = K.sum(e_costheta, axis=-1, keepdims=True)\n",
    "\n",
    "        temp = e_psi - e_costheta\n",
    "        temp = temp + sum_x\n",
    "\n",
    "        output = e_psi / temp\n",
    "        return output"
   ]
  },
  {
   "cell_type": "code",
   "execution_count": 30,
   "metadata": {},
   "outputs": [],
   "source": [
    "def amsoftmax_loss(y_true, y_pred):\n",
    "    d1 = K.sum(y_true * y_pred, axis=-1)\n",
    "    d1 = K.log(K.clip(d1, K.epsilon(), None))\n",
    "    loss = -K.mean(d1, axis=-1)\n",
    "    return loss"
   ]
  },
  {
   "cell_type": "code",
   "execution_count": null,
   "metadata": {},
   "outputs": [],
   "source": []
  }
 ],
 "metadata": {
  "kernelspec": {
   "display_name": "Python 3",
   "language": "python",
   "name": "python3"
  },
  "language_info": {
   "codemirror_mode": {
    "name": "ipython",
    "version": 3
   },
   "file_extension": ".py",
   "mimetype": "text/x-python",
   "name": "python",
   "nbconvert_exporter": "python",
   "pygments_lexer": "ipython3",
   "version": "3.5.2"
  }
 },
 "nbformat": 4,
 "nbformat_minor": 1
}
