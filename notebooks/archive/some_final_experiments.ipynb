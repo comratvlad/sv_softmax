{
 "cells": [
  {
   "cell_type": "code",
   "execution_count": 8,
   "metadata": {},
   "outputs": [],
   "source": [
    "import math\n",
    "import numpy as np\n",
    "import tensorflow as tf\n",
    "\n",
    "from keras import *\n",
    "from keras import backend as K\n",
    "from matplotlib import pyplot as plt\n",
    "from keras.engine import InputSpec\n",
    "from keras.engine.topology import Layer\n",
    "from keras.layers import Dense, Activation, BatchNormalization\n",
    "from keras.layers import activations, initializers, regularizers, constraints, Lambda"
   ]
  },
  {
   "cell_type": "code",
   "execution_count": 2,
   "metadata": {},
   "outputs": [],
   "source": [
    "(train_images, train_labels), (test_images, test_labels) = datasets.cifar10.load_data()\n",
    "\n",
    "train_images = train_images.reshape((50000, 32, 32, 3))\n",
    "test_images = test_images.reshape((10000, 32, 32, 3))\n",
    "\n",
    "# Normalize pixel values to be between 0 and 1\n",
    "train_images, test_images = train_images / 255.0, test_images / 255.0\n",
    "# train_images, test_images = train_images - 0.5, test_images - 0.5\n",
    "# train_images, test_images = train_images * 2, test_images * 2\n",
    "\n",
    "# To one-hot\n",
    "train_labels = utils.to_categorical(train_labels, 10)\n",
    "test_labels = utils.to_categorical(test_labels, 10)"
   ]
  },
  {
   "cell_type": "code",
   "execution_count": 67,
   "metadata": {},
   "outputs": [],
   "source": [
    "model = models.Sequential()\n",
    "\n",
    "model.add(layers.Convolution2D(32, 3, padding='same',\n",
    "                               input_shape=(32, 32, 3)))\n",
    "model.add(layers.Activation('relu'))\n",
    "model.add(layers.Convolution2D(32, 3))\n",
    "model.add(layers.Activation('relu'))\n",
    "model.add(layers.MaxPooling2D(pool_size=(2, 2)))\n",
    "model.add(layers.Dropout(0.25))\n",
    "\n",
    "model.add(layers.Convolution2D(64, 3, padding='same'))\n",
    "model.add(layers.Activation('relu'))\n",
    "model.add(layers.Convolution2D(64, 3))\n",
    "model.add(layers.Activation('relu'))\n",
    "model.add(layers.MaxPooling2D(pool_size=(2, 2)))\n",
    "model.add(layers.Dropout(0.25))\n",
    "\n",
    "model.add(layers.Flatten())\n",
    "model.add(layers.Dense(512))\n",
    "model.add(layers.Activation('relu'))\n",
    "# model.add(layers.Dropout(0.5))\n",
    "# model.add(AMSoftmax(10, 10, 0.35))\n",
    "model.add(layers.Dense(10))"
   ]
  },
  {
   "cell_type": "code",
   "execution_count": 62,
   "metadata": {},
   "outputs": [
    {
     "data": {
      "text/plain": [
       "(2, 10)"
      ]
     },
     "execution_count": 62,
     "metadata": {},
     "output_type": "execute_result"
    }
   ],
   "source": [
    "model.predict(train_images[:2]).shape"
   ]
  },
  {
   "cell_type": "code",
   "execution_count": 33,
   "metadata": {},
   "outputs": [],
   "source": [
    "base = applications.ResNet50(include_top=False, input_shape=(32, 32, 3), pooling='avg')\n",
    "for layer in base.layers[:-5]:\n",
    "    layer.trainable=False\n",
    "x = layers.Dense(10)(base.output)\n",
    "model = Model(base.input, x)"
   ]
  },
  {
   "cell_type": "code",
   "execution_count": 49,
   "metadata": {},
   "outputs": [
    {
     "name": "stdout",
     "output_type": "stream",
     "text": [
      "Train on 50000 samples, validate on 10000 samples\n",
      "Epoch 1/5\n",
      "50000/50000 [==============================] - 17s 344us/step - loss: 1.4474 - acc: 0.4737 - val_loss: 1.0953 - val_acc: 0.6035\n",
      "Epoch 2/5\n",
      "50000/50000 [==============================] - 11s 222us/step - loss: 1.0316 - acc: 0.6345 - val_loss: 0.8945 - val_acc: 0.6794\n",
      "Epoch 3/5\n",
      "50000/50000 [==============================] - 11s 224us/step - loss: 0.8494 - acc: 0.6998 - val_loss: 0.7533 - val_acc: 0.7348\n",
      "Epoch 4/5\n",
      "50000/50000 [==============================] - 11s 211us/step - loss: 0.7400 - acc: 0.7388 - val_loss: 0.7285 - val_acc: 0.7445\n",
      "Epoch 5/5\n",
      "50000/50000 [==============================] - 11s 218us/step - loss: 0.6601 - acc: 0.7676 - val_loss: 0.7340 - val_acc: 0.7486\n"
     ]
    }
   ],
   "source": [
    "model.compile(optimizer='adam',\n",
    "              loss='categorical_crossentropy',\n",
    "              metrics=['accuracy'])\n",
    "\n",
    "history_softmax = model.fit(train_images, train_labels, epochs=5,\n",
    "                            validation_data=(test_images, test_labels));"
   ]
  },
  {
   "cell_type": "code",
   "execution_count": 68,
   "metadata": {
    "scrolled": true
   },
   "outputs": [
    {
     "name": "stdout",
     "output_type": "stream",
     "text": [
      "Train on 50000 samples, validate on 10000 samples\n",
      "Epoch 1/5\n",
      "50000/50000 [==============================] - 20s 406us/step - loss: 0.1441 - acc: 0.4740 - val_loss: 0.1174 - val_acc: 0.5789\n",
      "Epoch 2/5\n",
      "50000/50000 [==============================] - 12s 234us/step - loss: 0.1048 - acc: 0.6279 - val_loss: 0.0927 - val_acc: 0.6683\n",
      "Epoch 3/5\n",
      "50000/50000 [==============================] - 11s 227us/step - loss: 0.0885 - acc: 0.6887 - val_loss: 0.0822 - val_acc: 0.7136\n",
      "Epoch 4/5\n",
      "50000/50000 [==============================] - 12s 231us/step - loss: 0.0775 - acc: 0.7272 - val_loss: 0.0767 - val_acc: 0.7365\n",
      "Epoch 5/5\n",
      "50000/50000 [==============================] - 11s 221us/step - loss: 0.0678 - acc: 0.7621 - val_loss: 0.0749 - val_acc: 0.7434\n"
     ]
    }
   ],
   "source": [
    "import math\n",
    "\n",
    "def step_decay(epoch):\n",
    "   initial_lrate = 0.001\n",
    "   drop = 0.5\n",
    "   epochs_drop = 10.0\n",
    "   lrate = initial_lrate * math.pow(drop,  \n",
    "           math.floor((1+epoch)/epochs_drop))\n",
    "   return lrate\n",
    "\n",
    "lrate = callbacks.LearningRateScheduler(step_decay)\n",
    "callbacks_list = [lrate]\n",
    "\n",
    "model.compile(optimizer='adam',\n",
    "              loss=softmax_loss(t=1., s=1),\n",
    "              metrics=['accuracy'])\n",
    "\n",
    "history_softmax = model.fit(train_images, train_labels, epochs=5,\n",
    "                            validation_data=(test_images, test_labels));"
   ]
  },
  {
   "cell_type": "code",
   "execution_count": 40,
   "metadata": {},
   "outputs": [
    {
     "data": {
      "image/png": "[encoded data removed]",
      "text/plain": [
       "<matplotlib.figure.Figure at 0x7f2a6b7b9208>"
      ]
     },
     "metadata": {
      "needs_background": "light"
     },
     "output_type": "display_data"
    }
   ],
   "source": [
    "# with norm and s=32\n",
    "plt.plot(history_softmax.history['acc'], label='softmax')\n",
    "plt.plot(history_softmax.history['val_acc'], label='val_softmax')\n",
    "plt.legend()\n",
    "plt.grid();"
   ]
  },
  {
   "cell_type": "code",
   "execution_count": 43,
   "metadata": {},
   "outputs": [
    {
     "data": {
      "image/png": "[encoded data removed]",
      "text/plain": [
       "<matplotlib.figure.Figure at 0x7f2d048b7e10>"
      ]
     },
     "metadata": {
      "needs_background": "light"
     },
     "output_type": "display_data"
    }
   ],
   "source": [
    "# with norm and s=32\n",
    "plt.plot(history_softmax.history['acc'], label='softmax')\n",
    "plt.plot(history_softmax.history['val_acc'], label='val_softmax')\n",
    "plt.legend()\n",
    "plt.grid();"
   ]
  },
  {
   "cell_type": "code",
   "execution_count": 25,
   "metadata": {},
   "outputs": [
    {
     "data": {
      "image/png": "[encoded data removed]",
      "text/plain": [
       "<matplotlib.figure.Figure at 0x7f2d0485b940>"
      ]
     },
     "metadata": {
      "needs_background": "light"
     },
     "output_type": "display_data"
    }
   ],
   "source": [
    "plt.plot(history_softmax.history['acc'], label='softmax')\n",
    "plt.plot(history_softmax.history['val_acc'], label='val_softmax')\n",
    "plt.plot(history_softmax_105.history['acc'], label='softmax_11')\n",
    "plt.plot(history_softmax_105.history['val_acc'], label='val_softmax_11')\n",
    "plt.plot(history_softmax_12.history['acc'], label='softmax_12')\n",
    "plt.plot(history_softmax_12.history['val_acc'], label='val_softmax_12')\n",
    "plt.legend()\n",
    "plt.grid();"
   ]
  },
  {
   "cell_type": "markdown",
   "metadata": {},
   "source": [
    "---"
   ]
  },
  {
   "cell_type": "code",
   "execution_count": 63,
   "metadata": {},
   "outputs": [],
   "source": [
    "from tensorflow.python.ops import array_ops\n",
    "\n",
    "\n",
    "def softmax_loss(t=1.0, s=1, m=0.35):\n",
    "\n",
    "    t = float(t)\n",
    "    s = float(s)\n",
    "    m = float(m)\n",
    "    \n",
    "    def softmax_loss_fixed(y_true, logits):\n",
    "        \"\"\"Softmax loss for multi-classification\n",
    "        FL(p_t)=-alpha(1-p_t)^{gamma}ln(p_t)\n",
    "        Notice: y_pred is raw logits\n",
    "        Focal Loss for Dense Object Detection\n",
    "        https://arxiv.org/abs/1708.02002\n",
    "\n",
    "        Arguments:\n",
    "            y_true {tensor} -- ground truth labels, shape of [batch_size, num_cls]\n",
    "            y_pred {tensor} -- model's output, shape of [batch_size, num_cls]\n",
    "\n",
    "        Keyword Arguments:\n",
    "\n",
    "        Returns:\n",
    "            [tensor] -- loss.\n",
    "        \"\"\"\n",
    "        epsilon = 1.e-9\n",
    "        zeros = array_ops.zeros_like(logits, dtype=logits.dtype)\n",
    "        ones = array_ops.ones_like(logits, dtype=logits.dtype)\n",
    "        \n",
    "        # Возможно косяк здесь! Хз как правильно искать значение логита на тру-классе\n",
    "        logit_y = tf.reduce_sum(tf.multiply(y_true, logits), axis=-1, keepdims=True) - m\n",
    "        I_k = array_ops.where(logit_y >= logits, zeros, ones)\n",
    "        \n",
    "        h = tf.exp(s*tf.multiply(t - 1., tf.multiply(logits + 1., I_k)))\n",
    "        \n",
    "        # softmax = tf.exp(logits) / tf.reduce_sum(tf.multiply(tf.exp(logits), h))\n",
    "#         softmax = tf.exp(logits) / (tf.reshape(\n",
    "#             tf.reduce_sum(tf.multiply(tf.exp(logits), h), axis=-1, keepdims=True), \n",
    "#             [-1, 1]))\n",
    "        softmax = tf.exp(s*logits) / (tf.reduce_sum(tf.multiply(tf.exp(s*logits), h), \n",
    "                                                    axis=-1, keepdims=True) + epsilon)\n",
    "        # softmax = tf.nn.softmax(logits)\n",
    "        # softmax = tf.exp(logits) / tf.reduce_sum(tf.exp(logits))\n",
    "        \n",
    "        # We add epsilon because log(0) = nan\n",
    "        softmax = tf.add(softmax, epsilon)\n",
    "        ce = tf.multiply(y_true, -tf.log(softmax))\n",
    "        return tf.reduce_mean(ce)\n",
    "    \n",
    "    return softmax_loss_fixed"
   ]
  },
  {
   "cell_type": "code",
   "execution_count": 53,
   "metadata": {},
   "outputs": [],
   "source": [
    "class AMSoftmax(Layer):\n",
    "    def __init__(self, units, s, m,\n",
    "                 kernel_initializer='glorot_uniform',\n",
    "                 kernel_regularizer=None,\n",
    "                 kernel_constraint=None,\n",
    "                 **kwargs\n",
    "                 ):\n",
    "        if 'input_shape' not in kwargs and 'input_dim' in kwargs:\n",
    "            kwargs['input_shape'] = (kwargs.pop('input_dim'),)\n",
    "        super(AMSoftmax, self).__init__(**kwargs)\n",
    "        self.units = units\n",
    "        self.s = s\n",
    "        self.m = m\n",
    "        self.kernel_initializer = initializers.get(kernel_initializer)\n",
    "        self.kernel_regularizer = regularizers.get(kernel_regularizer)\n",
    "        self.kernel_constraint = constraints.get(kernel_constraint)\n",
    "        self.input_spec = InputSpec(min_ndim=2)\n",
    "        self.supports_masking = True\n",
    "\n",
    "\n",
    "    def build(self, input_shape):\n",
    "        assert len(input_shape) >= 2\n",
    "        input_dim = input_shape[-1]\n",
    "\n",
    "        self.kernel = self.add_weight(shape=(input_dim, self.units),\n",
    "                                      initializer=self.kernel_initializer,\n",
    "                                      name='kernel',\n",
    "                                      regularizer=self.kernel_regularizer,\n",
    "                                      constraint=self.kernel_constraint)\n",
    "        self.bias = None\n",
    "\n",
    "        self.input_spec = InputSpec(min_ndim=2, axes={-1: input_dim})\n",
    "        self.built = True\n",
    "\n",
    "\n",
    "    def call(self, inputs, **kwargs):\n",
    "#         inputs = tf.nn.l2_normalize(inputs, dim=-1)\n",
    "#         self.kernel = tf.nn.l2_normalize(self.kernel, dim=(0, 1))   # W归一化\n",
    "        inputs = tf.nn.l2_normalize(inputs, dim=0)\n",
    "        self.kernel = tf.nn.l2_normalize(self.kernel, dim=1)   # W归一化\n",
    "        dis_cosin = K.dot(inputs, self.kernel)\n",
    "        # psi = dis_cosin - self.m\n",
    "\n",
    "        # e_costheta = K.exp(self.s * dis_cosin)\n",
    "        # e_psi = K.exp(self.s * psi)\n",
    "        # sum_x = K.sum(e_costheta, axis=-1, keepdims=True)\n",
    "\n",
    "        # temp = e_psi - e_costheta\n",
    "        # temp = temp + sum_x\n",
    "\n",
    "        # output = e_psi / temp\n",
    "        return dis_cosin\n",
    "\n",
    "\n",
    "def amsoftmax_loss(y_true, y_pred):\n",
    "    d1 = K.sum(y_true * y_pred, axis=-1)\n",
    "    d1 = K.log(K.clip(d1, K.epsilon(), None))\n",
    "    loss = -K.mean(d1, axis=-1)\n",
    "    return loss"
   ]
  },
  {
   "cell_type": "code",
   "execution_count": null,
   "metadata": {},
   "outputs": [],
   "source": []
  }
 ],
 "metadata": {
  "kernelspec": {
   "display_name": "Python 3",
   "language": "python",
   "name": "python3"
  },
  "language_info": {
   "codemirror_mode": {
    "name": "ipython",
    "version": 3
   },
   "file_extension": ".py",
   "mimetype": "text/x-python",
   "name": "python",
   "nbconvert_exporter": "python",
   "pygments_lexer": "ipython3",
   "version": "3.5.2"
  }
 },
 "nbformat": 4,
 "nbformat_minor": 2
}
